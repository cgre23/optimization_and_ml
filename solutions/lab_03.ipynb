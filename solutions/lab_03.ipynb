{
 "cells": [
  {
   "cell_type": "markdown",
   "metadata": {},
   "source": [
    "# Lab 03 - Regression\n",
    "## Tasks\n",
    "- Explore linear regression and overfitting\n",
    "- Experiment with stocastic gradient descent"
   ]
  },
  {
   "cell_type": "markdown",
   "metadata": {},
   "source": [
    "# Set up environment"
   ]
  },
  {
   "cell_type": "code",
   "execution_count": 1,
   "metadata": {},
   "outputs": [
    {
     "name": "stdout",
     "output_type": "stream",
     "text": [
      "\u001b[33mWARNING: You are using pip version 21.2.3; however, version 21.3.1 is available.\n",
      "You should consider upgrading via the '/home/vagrant/.pyenv/versions/3.7.2/envs/py3/bin/python -m pip install --upgrade pip' command.\u001b[0m\n"
     ]
    }
   ],
   "source": [
    "!pip install git+https://github.com/uspas/optimization_and_ml --quiet"
   ]
  },
  {
   "cell_type": "code",
   "execution_count": 2,
   "metadata": {},
   "outputs": [],
   "source": [
    "%reset -f\n",
    "\n",
    "import os\n",
    "import numpy as np\n",
    "import matplotlib.pyplot as plt\n",
    "\n",
    "#matplotlib graphs will be included in your notebook, next to the code:\n",
    "%matplotlib inline\n",
    "\n",
    "#import toy accelerator package\n",
    "from uspas_ml.accelerator_toy_models import high_dimensional_data_generator\n",
    "\n",
    "#import sklearn modules\n",
    "from sklearn import linear_model\n",
    "from sklearn.model_selection import train_test_split\n",
    "\n",
    "#import pytorch\n",
    "import torch"
   ]
  },
  {
   "cell_type": "markdown",
   "metadata": {},
   "source": [
    "## Linear regression\n",
    "We start with simple least squares linear regression. Our model is defined as follows:\n",
    "\n",
    "$\n",
    "\\mathbf{f}(\\mathbf{x}) = \\mathbf{x}^T\\mathbf{w} + \\mathbf{b}\n",
    "$\n",
    "\n",
    "Our objective is to determine the weights $\\mathbf{w}$ and the biases $\\mathbf{b}$ for a set of input variables (also referred to as \"features\") to best model the observed values $\\mathbf{y} = \\mathbf{f}(\\mathbf{x}) + \\epsilon$ where $\\epsilon$ represents noise (usually Gaussian noise).\n",
    "\n",
    "We start by constructing a training set and a test set. We will train the model on the training set and then evaluate the model's abilitiy to correctly predict values from the test set. This (hopefully) allows us to evaluate if the model generalizes well to data outside the test set.\n",
    "\n",
    "One problem we face is overfitting (see https://en.wikipedia.org/wiki/Overfitting for more details). Here we will try to demonstrate methods for avoiding this problem."
   ]
  },
  {
   "cell_type": "code",
   "execution_count": 3,
   "metadata": {},
   "outputs": [
    {
     "name": "stdout",
     "output_type": "stream",
     "text": [
      "(1000, 1001)\n",
      "(700, 1000)\n"
     ]
    }
   ],
   "source": [
    "#load dataset - last column is f\n",
    "from uspas_ml.accelerator_toy_models import data_dir\n",
    "data = np.load(os.path.join(data_dir, 'complex_dataset.npy'))\n",
    "true_weights = np.load(os.path.join(data_dir, 'complex_dataset_weights.npy'))\n",
    "\n",
    "print(data.shape)\n",
    "x = data[:,:-1]\n",
    "f = data[:,-1]\n",
    "\n",
    "#split into training and test sets\n",
    "X_train, X_test, y_train, y_test = train_test_split(x, f, test_size=0.3, random_state=3)\n",
    "print(X_train.shape)"
   ]
  },
  {
   "cell_type": "code",
   "execution_count": 4,
   "metadata": {},
   "outputs": [
    {
     "name": "stdout",
     "output_type": "stream",
     "text": [
      "1.0\n",
      "0.6705457848150063\n"
     ]
    },
    {
     "data": {
      "image/png": "[encoded data removed]",
      "text/plain": [
       "<Figure size 432x288 with 1 Axes>"
      ]
     },
     "metadata": {
      "needs_background": "light"
     },
     "output_type": "display_data"
    }
   ],
   "source": [
    "#fit data with a linear model\n",
    "reg = linear_model.LinearRegression()\n",
    "reg.fit(X_train,y_train)\n",
    "reg.coef_\n",
    "\n",
    "#get training and test scores - least squared distance\n",
    "train_score = reg.score(X_train, y_train)\n",
    "test_score = reg.score(X_test, y_test)\n",
    "print(train_score)\n",
    "print(test_score)\n",
    "\n",
    "fig,ax = plt.subplots()\n",
    "ax.hist(reg.coef_, range = [-6,6]);\n",
    "ax.hist(true_weights, range = [-6,6]);"
   ]
  },
  {
   "cell_type": "markdown",
   "metadata": {},
   "source": [
    "<div class=\"alert alert-block alert-info\">\n",
    "    \n",
    "**Task:** \n",
    "    Refit the data using Ridge and Lasso regression with alpha = 0.01, 100 and plot histogram of weights Hint: use scikit-learn. Also plot a histogram of `true_weights` to compare. Also calculate the training and test scores for each. Which method is best for this data set?\n",
    "    \n",
    "</div>"
   ]
  },
  {
   "cell_type": "code",
   "execution_count": 5,
   "metadata": {},
   "outputs": [
    {
     "name": "stdout",
     "output_type": "stream",
     "text": [
      "0.99999999675693\n",
      "0.6685277284225983\n"
     ]
    },
    {
     "data": {
      "image/png": "[encoded data removed]",
      "text/plain": [
       "<Figure size 432x288 with 1 Axes>"
      ]
     },
     "metadata": {
      "needs_background": "light"
     },
     "output_type": "display_data"
    }
   ],
   "source": [
    "#Ridge regression\n",
    "#fit data with a linear model\n",
    "reg = linear_model.Ridge(alpha = 0.01)\n",
    "reg.fit(X_train,y_train)\n",
    "reg.coef_\n",
    "\n",
    "#get training and test scores - least squared distance\n",
    "train_score = reg.score(X_train, y_train)\n",
    "test_score = reg.score(X_test, y_test)\n",
    "print(train_score)\n",
    "print(test_score)\n",
    "\n",
    "fig,ax = plt.subplots()\n",
    "ax.hist(reg.coef_, range = [-6,6]);"
   ]
  },
  {
   "cell_type": "code",
   "execution_count": 18,
   "metadata": {},
   "outputs": [
    {
     "name": "stdout",
     "output_type": "stream",
     "text": [
      "0.999627214737991\n",
      "0.7159537166155329\n"
     ]
    },
    {
     "data": {
      "image/png": "[encoded data removed]",
      "text/plain": [
       "<Figure size 432x288 with 1 Axes>"
      ]
     },
     "metadata": {
      "needs_background": "light"
     },
     "output_type": "display_data"
    }
   ],
   "source": [
    "#Lasso regression\n",
    "#fit data with a linear model\n",
    "reg = linear_model.Lasso(alpha=0.01)\n",
    "reg.fit(X_train,y_train)\n",
    "reg.coef_\n",
    "\n",
    "#get training and test scores - least squared distance\n",
    "train_score = reg.score(X_train, y_train)\n",
    "test_score = reg.score(X_test, y_test)\n",
    "print(train_score)\n",
    "print(test_score)\n",
    "\n",
    "fig,ax = plt.subplots()\n",
    "ax.hist(reg.coef_, range = [-6,6]);"
   ]
  },
  {
   "cell_type": "markdown",
   "metadata": {},
   "source": [
    "# Using SGD"
   ]
  },
  {
   "cell_type": "markdown",
   "metadata": {},
   "source": [
    "## Create some data"
   ]
  },
  {
   "cell_type": "code",
   "execution_count": 7,
   "metadata": {},
   "outputs": [
    {
     "name": "stdout",
     "output_type": "stream",
     "text": [
      "(1000, 1001)\n"
     ]
    },
    {
     "data": {
      "image/png": "[encoded data removed]",
      "text/plain": [
       "<Figure size 432x288 with 1 Axes>"
      ]
     },
     "metadata": {
      "needs_background": "light"
     },
     "output_type": "display_data"
    }
   ],
   "source": [
    "# Vector of 100 random numbers between zero and one; multiply all by 2.\n",
    "X = 2*np.random.rand(100,1)\n",
    "\n",
    "# Y(x) + dY, for random values of Y\n",
    "Y = 4 + 3*X + np.random.randn(100,1)\n",
    "\n",
    "plt.scatter(X, Y, label='gaussian noise abt. y=4x+3')\n",
    "print(data.shape)\n",
    "x = torch.from_numpy(X).float()\n",
    "f = torch.from_numpy(Y).float()\n",
    "\n",
    "\n",
    "#add data to dataset objects, which allows us to easily split data into train/test sets and shuffle the data as needed\n",
    "train_fraction = 0.7\n",
    "n_train = int(train_fraction*x.shape[0])\n",
    "n_test = x.shape[0] - n_train\n",
    "train_data, test_data = torch.utils.data.random_split(torch.utils.data.TensorDataset(x, f), [n_train, n_test])"
   ]
  },
  {
   "cell_type": "markdown",
   "metadata": {},
   "source": [
    "## Define a model to train"
   ]
  },
  {
   "cell_type": "code",
   "execution_count": 8,
   "metadata": {},
   "outputs": [
    {
     "name": "stdout",
     "output_type": "stream",
     "text": [
      "linear.weight:Parameter containing:\n",
      "tensor([[-0.0925,  0.0443]], requires_grad=True)\n",
      "linear.bias:Parameter containing:\n",
      "tensor([-0.1820], requires_grad=True)\n"
     ]
    }
   ],
   "source": [
    "# Define a model class that we will train - represents a linear combination\n",
    "class LinearModel(torch.nn.Module):\n",
    "    def __init__(self, n_features):\n",
    "        super(LinearModel, self).__init__()\n",
    "        self.linear = torch.nn.Linear(n_features, 1)\n",
    "        \n",
    "    def forward(self, x):\n",
    "        return self.linear(x)\n",
    "\n",
    "# list trainable parameters for linear model if we have 10 inputs\n",
    "lmodel = LinearModel(2)\n",
    "for name, item in lmodel.named_parameters():\n",
    "    print(f'{name}:{item}')\n"
   ]
  },
  {
   "cell_type": "markdown",
   "metadata": {},
   "source": [
    "### Modifications to Linear Regression\n",
    "The analytical solution for the weights using least squares involves matrix inversion, which makes it practically impossible to solve this problem analytically. The least squares loss function is defined as\n",
    "\n",
    "$\n",
    "    L(\\mathbf{w}) = ||X\\mathbf{w} - Y||^2\n",
    "$\n",
    "\n",
    "where $X$, $Y$ are matricies with our input and output data respecitvely. To minimize the loss we compute the gradient\n",
    "\n",
    "$\n",
    "    \\frac{dL}{d\\mathbf{w}} = -2X^TY + 2X^TX\\mathbf{w} \n",
    "$\n",
    "\n",
    "and set it to zero to find the minimum value for the weights, we get\n",
    "\n",
    "$\n",
    "    \\mathbf{w} = (X^TX)^{-1}X^T\\mathbf{y}\n",
    "$\n",
    "\n",
    "If $X$, $Y$ are large (maybe 10k x 10k) then the matrix inversion here becomes computationally impossible. \n",
    "\n",
    "Instead, we will optimize the weights numerically. However,computing the gradient is also expensive in this case.  Instead we will approximate the gradient using smaller \"batches\" of training points.\n",
    "\n",
    "We divide the entire dataset into batches and use the gradient with respect to these batches as a stand-in for the real gradient. Depending on the batch size we call this method as follows:\n",
    "- \"Batch gradient descent / Gradient descent\" -> the batch size is equal to the dataset size\n",
    "- \"Mini-batch gradient descent\" -> the batch size is > 1 but less than the dataset size\n",
    "- \"Stochastic gradient descent\" -> the batch size is 1\n",
    "\n",
    "Choosing the correct batch size has a significant effect on optimization speed depedning on the problem at hand. Reducing the batch size can make optimization faster to compute, but takes a noiser path. \n",
    "\n",
    "In this case the term \"epoch\" describes the number of times the optimizer will use the entire dataset during optimization (generally greater than one)."
   ]
  },
  {
   "cell_type": "markdown",
   "metadata": {},
   "source": [
    "We will start by trying batch gradient descent using `torch.optim.SGD`\n",
    "#### NOTE: even though the function name is SGD, it depends on how much data you pass it. In this case since we pass it the entire dataset it is effectively batch gradient descent."
   ]
  },
  {
   "cell_type": "code",
   "execution_count": 9,
   "metadata": {},
   "outputs": [
    {
     "name": "stdout",
     "output_type": "stream",
     "text": [
      "epoch: 0, loss: 36.97331619262695\n",
      "epoch: 5, loss: 24.697751998901367\n",
      "epoch: 10, loss: 16.671968460083008\n",
      "epoch: 15, loss: 11.422734260559082\n",
      "epoch: 20, loss: 7.987597465515137\n",
      "epoch: 25, loss: 5.73779821395874\n",
      "epoch: 30, loss: 4.2625555992126465\n",
      "epoch: 35, loss: 3.293510913848877\n",
      "epoch: 40, loss: 2.655344009399414\n",
      "epoch: 45, loss: 2.2335100173950195\n",
      "epoch: 50, loss: 1.9531726837158203\n",
      "epoch: 55, loss: 1.7654374837875366\n",
      "epoch: 60, loss: 1.6383551359176636\n",
      "epoch: 65, loss: 1.5510493516921997\n",
      "epoch: 70, loss: 1.4898759126663208\n",
      "epoch: 75, loss: 1.4459171295166016\n",
      "epoch: 80, loss: 1.4133409261703491\n",
      "epoch: 85, loss: 1.3883333206176758\n",
      "epoch: 90, loss: 1.3683984279632568\n"
     ]
    },
    {
     "name": "stderr",
     "output_type": "stream",
     "text": [
      "/home/vagrant/.pyenv/versions/py3/lib/python3.7/site-packages/torch/nn/modules/loss.py:520: UserWarning: Using a target size (torch.Size([30, 1, 1])) that is different to the input size (torch.Size([30, 1])). This will likely lead to incorrect results due to broadcasting. Please ensure they have the same size.\n",
      "  return F.mse_loss(input, target, reduction=self.reduction)\n"
     ]
    },
    {
     "name": "stdout",
     "output_type": "stream",
     "text": [
      "epoch: 95, loss: 1.3519006967544556\n",
      "epoch: 100, loss: 1.3377679586410522\n",
      "epoch: 105, loss: 1.3252947330474854\n",
      "epoch: 110, loss: 1.314017653465271\n",
      "epoch: 115, loss: 1.303628921508789\n",
      "epoch: 120, loss: 1.293924331665039\n",
      "epoch: 125, loss: 1.284766674041748\n",
      "epoch: 130, loss: 1.2760634422302246\n",
      "epoch: 135, loss: 1.2677499055862427\n",
      "epoch: 140, loss: 1.2597814798355103\n",
      "epoch: 145, loss: 1.25212562084198\n",
      "epoch: 150, loss: 1.2447580099105835\n",
      "epoch: 155, loss: 1.2376598119735718\n",
      "epoch: 160, loss: 1.23081636428833\n",
      "epoch: 165, loss: 1.2242145538330078\n",
      "epoch: 170, loss: 1.217844009399414\n",
      "epoch: 175, loss: 1.2116953134536743\n",
      "epoch: 180, loss: 1.2057596445083618\n",
      "epoch: 185, loss: 1.200028657913208\n",
      "epoch: 190, loss: 1.1944952011108398\n",
      "epoch: 195, loss: 1.189152479171753\n"
     ]
    }
   ],
   "source": [
    "epochs = 200\n",
    "gd_model = LinearModel(x.shape[1])\n",
    "\n",
    "#use Mean Squared Error loss function\n",
    "loss_fn = torch.nn.MSELoss()\n",
    "optim = torch.optim.SGD(gd_model.parameters(), lr = 0.01)\n",
    "\n",
    "batch_size = len(train_data)\n",
    "\n",
    "train_loader = torch.utils.data.DataLoader(train_data, batch_size = batch_size, shuffle = True)\n",
    "\n",
    "#track loss during epochs\n",
    "train_loss = []\n",
    "test_loss = []\n",
    "for i in range(epochs):\n",
    "\n",
    "    #iterate over the batches (in this case we only have one batch)\n",
    "    for batch_idx, (data, target) in enumerate(train_loader):\n",
    "        # zero gradients\n",
    "        optim.zero_grad()\n",
    "        \n",
    "        # calculate model prediction -> calculate loss\n",
    "        fval = gd_model(data)\n",
    "        loss = loss_fn(fval, target.reshape(-1,1))\n",
    "        \n",
    "        # calculate derivatives of loss based on model parameters\n",
    "        loss.backward()\n",
    "    \n",
    "        # step the optimizer based on the gradients\n",
    "        optim.step()\n",
    "        \n",
    "        # keep track of loss function\n",
    "        train_loss += [loss.detach().numpy()]\n",
    "        if i % 5 == 0:\n",
    "            print(f'epoch: {i}, loss: {loss}')   \n",
    "            \n",
    "        #calculate test loss\n",
    "        test_loss += [loss_fn(gd_model(test_data[:][0]),test_data[:][1].unsqueeze(1)).detach().numpy()]\n"
   ]
  },
  {
   "cell_type": "code",
   "execution_count": 10,
   "metadata": {},
   "outputs": [
    {
     "data": {
      "text/plain": [
       "Text(0, 0.5, '<MSELoss>')"
      ]
     },
     "execution_count": 10,
     "metadata": {},
     "output_type": "execute_result"
    },
    {
     "data": {
      "image/png": "[encoded data removed]",
      "text/plain": [
       "<Figure size 432x288 with 1 Axes>"
      ]
     },
     "metadata": {
      "needs_background": "light"
     },
     "output_type": "display_data"
    }
   ],
   "source": [
    "# plot \n",
    "#plt.plot(test_loss)\n",
    "plt.semilogy(train_loss)\n",
    "\n",
    "plt.xlabel('Epoch')\n",
    "plt.ylabel('<MSELoss>')"
   ]
  },
  {
   "cell_type": "markdown",
   "metadata": {},
   "source": [
    "<div class=\"alert alert-block alert-info\">\n",
    "    \n",
    "**Task:** \n",
    "    Refit the data using stochastic gradient descent (batch size of 1) and mini-batch gradient descent with 10 batches. You will have to change the number of epochs so that it takes a reasonable amount of time (50 for mini-batch and 10 for SGD). Compare how changing batch size effects optimization by plotting test_loss as a function of epoch for each batch size. Compare how mini-batch training changes with varying learning rates (0.001, 0.01, 0.1).\n",
    "    \n",
    "</div>"
   ]
  },
  {
   "cell_type": "code",
   "execution_count": 11,
   "metadata": {},
   "outputs": [],
   "source": [
    "epochs = 10\n",
    "gd_model = LinearModel(x.shape[1])\n",
    "\n",
    "#use Mean Squared Error loss function\n",
    "loss_fn = torch.nn.MSELoss()\n",
    "optim = torch.optim.SGD(gd_model.parameters(), lr = 0.01)\n",
    "\n",
    "batch_size = 1\n",
    "\n",
    "train_loader = torch.utils.data.DataLoader(train_data, batch_size = batch_size, shuffle = True)\n",
    "\n",
    "#track loss during epochs\n",
    "train_loss = []\n",
    "test_loss = []\n",
    "for i in range(epochs):\n",
    "\n",
    "    #iterate over the batches (in this case we only have one batch)\n",
    "    for batch_idx, (data, target) in enumerate(train_loader):\n",
    "        # zero gradients\n",
    "        optim.zero_grad()\n",
    "        \n",
    "        # calculate model prediction -> calculate loss\n",
    "        fval = gd_model(data)\n",
    "        loss = loss_fn(fval, target.reshape(-1,1))\n",
    "        \n",
    "        # calculate derivatives of loss based on model parameters\n",
    "        loss.backward()\n",
    "    \n",
    "        # step the optimizer based on the gradients\n",
    "        optim.step()\n",
    "        \n",
    "        # keep track of loss function\n",
    "        train_loss += [loss.detach().numpy()]\n",
    "       \n",
    "        #calculate test loss\n",
    "        test_loss += [loss_fn(gd_model(test_data[:][0]),test_data[:][1].unsqueeze(1)).detach().numpy()]\n"
   ]
  },
  {
   "cell_type": "code",
   "execution_count": 12,
   "metadata": {},
   "outputs": [
    {
     "data": {
      "text/plain": [
       "Text(0, 0.5, '<MSELoss>')"
      ]
     },
     "execution_count": 12,
     "metadata": {},
     "output_type": "execute_result"
    },
    {
     "data": {
      "image/png": "[encoded data removed]",
      "text/plain": [
       "<Figure size 432x288 with 1 Axes>"
      ]
     },
     "metadata": {
      "needs_background": "light"
     },
     "output_type": "display_data"
    }
   ],
   "source": [
    "# plot \n",
    "#plt.plot(test_loss)\n",
    "plt.semilogy(train_loss)\n",
    "plt.semilogy(test_loss)\n",
    "plt.xlabel('Iteration')\n",
    "plt.ylabel('<MSELoss>')"
   ]
  },
  {
   "cell_type": "code",
   "execution_count": 13,
   "metadata": {},
   "outputs": [],
   "source": [
    "epochs = 100\n",
    "gd_model = LinearModel(x.shape[1])\n",
    "\n",
    "#use Mean Squared Error loss function\n",
    "loss_fn = torch.nn.MSELoss()\n",
    "optim = torch.optim.SGD(gd_model.parameters(), lr = 0.01)\n",
    "\n",
    "batch_size = 10\n",
    "\n",
    "train_loader = torch.utils.data.DataLoader(train_data, batch_size = batch_size, shuffle = True)\n",
    "\n",
    "#track loss during epochs\n",
    "train_loss = []\n",
    "test_loss = []\n",
    "for i in range(epochs):\n",
    "\n",
    "    #iterate over the batches (in this case we only have one batch)\n",
    "    for batch_idx, (data, target) in enumerate(train_loader):\n",
    "        # zero gradients\n",
    "        optim.zero_grad()\n",
    "        \n",
    "        # calculate model prediction -> calculate loss\n",
    "        fval = gd_model(data)\n",
    "        loss = loss_fn(fval, target.reshape(-1,1))\n",
    "        \n",
    "        # calculate derivatives of loss based on model parameters\n",
    "        loss.backward()\n",
    "    \n",
    "        # step the optimizer based on the gradients\n",
    "        optim.step()\n",
    "        \n",
    "        # keep track of loss function\n",
    "        train_loss += [loss.detach().numpy()]\n",
    "       \n",
    "        #calculate test loss\n",
    "        test_loss += [loss_fn(gd_model(test_data[:][0]),test_data[:][1].unsqueeze(1)).detach().numpy()]\n"
   ]
  },
  {
   "cell_type": "code",
   "execution_count": 14,
   "metadata": {},
   "outputs": [
    {
     "data": {
      "text/plain": [
       "Text(0, 0.5, '<MSELoss>')"
      ]
     },
     "execution_count": 14,
     "metadata": {},
     "output_type": "execute_result"
    },
    {
     "data": {
      "image/png": "[encoded data removed]",
      "text/plain": [
       "<Figure size 432x288 with 1 Axes>"
      ]
     },
     "metadata": {
      "needs_background": "light"
     },
     "output_type": "display_data"
    }
   ],
   "source": [
    "# plot \n",
    "#plt.plot(test_loss)\n",
    "plt.semilogy(train_loss)\n",
    "plt.semilogy(test_loss)\n",
    "\n",
    "plt.xlabel('Epoch')\n",
    "plt.ylabel('<MSELoss>')"
   ]
  },
  {
   "cell_type": "markdown",
   "metadata": {},
   "source": [
    "<div class=\"alert alert-block alert-success\">\n",
    "    \n",
    "**Homework:**\n",
    "    Provide an explaniation for why the MSE performance of gradient based methods varies so dramatically based on batch size.\n",
    "</div>"
   ]
  },
  {
   "cell_type": "markdown",
   "metadata": {},
   "source": [
    "#########\n",
    "#SOLUTION\n",
    "#########\n",
    "\n",
    "If the batch size is larger then the mean squared error is optimized in a smoother fashion but converges relatively slowly. If the batch size is smaller then it can converge faster but convergence is noisy. Generally we want to use the mini-batch size so that we get the best of both worlds, a convergence speed increase that remains stable duirng optimization."
   ]
  },
  {
   "cell_type": "markdown",
   "metadata": {},
   "source": [
    "<div class=\"alert alert-block alert-success\">\n",
    "    \n",
    "**Homework:**\n",
    "    How could we extend this method towards modeling more complex functions? Use a pytorch model to perform polynomial\n",
    "    regression of the dataset generated below. Your answer should closely match the analytical function used to generate the data.\n",
    "    Hint: You can access the weight elements of nn.Linear layer using `.weight`, see above for use.\n",
    "</div>"
   ]
  },
  {
   "cell_type": "code",
   "execution_count": 15,
   "metadata": {},
   "outputs": [
    {
     "data": {
      "text/plain": [
       "[<matplotlib.lines.Line2D at 0x7f4246df0ba8>]"
      ]
     },
     "execution_count": 15,
     "metadata": {},
     "output_type": "execute_result"
    },
    {
     "data": {
      "image/png": "[encoded data removed]",
      "text/plain": [
       "<Figure size 432x288 with 1 Axes>"
      ]
     },
     "metadata": {
      "needs_background": "light"
     },
     "output_type": "display_data"
    }
   ],
   "source": [
    "x = torch.linspace(0,1, 100).unsqueeze(dim=1)\n",
    "y = 0.75 + 0.1 * x - 0.5 * x ** 2 + 0.5 * x ** 3 + torch.randn(x.shape)*0.005\n",
    "plt.plot(x,y)"
   ]
  },
  {
   "cell_type": "code",
   "execution_count": 16,
   "metadata": {},
   "outputs": [
    {
     "name": "stdout",
     "output_type": "stream",
     "text": [
      "tensor(3.1831e-05, grad_fn=<MseLossBackward0>)\n",
      "linear.weight:Parameter containing:\n",
      "tensor([[ 0.0343, -0.3443,  0.4014]], requires_grad=True)\n",
      "linear.bias:Parameter containing:\n",
      "tensor([0.7557], requires_grad=True)\n"
     ]
    },
    {
     "data": {
      "text/plain": [
       "[<matplotlib.lines.Line2D at 0x7f424702eac8>]"
      ]
     },
     "execution_count": 16,
     "metadata": {},
     "output_type": "execute_result"
    },
    {
     "data": {
      "image/png": "[encoded data removed]",
      "text/plain": [
       "<Figure size 432x288 with 1 Axes>"
      ]
     },
     "metadata": {
      "needs_background": "light"
     },
     "output_type": "display_data"
    }
   ],
   "source": [
    "################################################################\n",
    "#ANSWER KEY - Mini-batch\n",
    "################################################################\n",
    "# Define a model class that we will train - represents a nonlinear combination\n",
    "class NonLinearModel(torch.nn.Module):\n",
    "    def __init__(self):\n",
    "        super(NonLinearModel, self).__init__()\n",
    "        self.linear = torch.nn.Linear(3, 1)\n",
    "        \n",
    "    def forward(self,x):\n",
    "        weights = self.linear.weight.flatten()\n",
    "        bias = self.linear.bias\n",
    "        \n",
    "        return bias + weights[0]*x + weights[1]*x**2 + weights[2]*x**3\n",
    "\n",
    "model = NonLinearModel()\n",
    "loss_fn = torch.nn.MSELoss()\n",
    "optim = torch.optim.SGD(model.parameters(), lr = 0.5)\n",
    "\n",
    "for i in range(10000):\n",
    "    optim.zero_grad()\n",
    "        \n",
    "    fval = model(x)\n",
    "    loss = loss_fn(fval, y)\n",
    "        \n",
    "    loss.backward()\n",
    "    optim.step()\n",
    "        \n",
    "print(loss)\n",
    "for name, item in model.named_parameters():\n",
    "    print(f'{name}:{item}')\n",
    "pred = model(x)\n",
    "plt.plot(x,pred.detach())\n",
    "plt.plot(x,y)"
   ]
  },
  {
   "cell_type": "code",
   "execution_count": null,
   "metadata": {},
   "outputs": [],
   "source": []
  }
 ],
 "metadata": {
  "kernelspec": {
   "display_name": "Python 3",
   "language": "python",
   "name": "py3"
  },
  "language_info": {
   "codemirror_mode": {
    "name": "ipython",
    "version": 3
   },
   "file_extension": ".py",
   "mimetype": "text/x-python",
   "name": "python",
   "nbconvert_exporter": "python",
   "pygments_lexer": "ipython3",
   "version": "3.7.2"
  }
 },
 "nbformat": 4,
 "nbformat_minor": 4
}
