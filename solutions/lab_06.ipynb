{
 "cells": [
  {
   "cell_type": "markdown",
   "metadata": {},
   "source": [
    "# Lab 06 - Neural networks\n",
    "## Tasks\n",
    "- Train a neural network to fit the MNIST dataset\n",
    "- Train a neural network to fit data from the AWA photoinjector"
   ]
  },
  {
   "cell_type": "markdown",
   "metadata": {},
   "source": [
    "# Set up environment"
   ]
  },
  {
   "cell_type": "code",
   "execution_count": 1,
   "metadata": {},
   "outputs": [],
   "source": [
    "%reset -f\n",
    "\n",
    "import os\n",
    "import numpy as np\n",
    "import matplotlib.pyplot as plt\n",
    "\n",
    "#matplotlib graphs will be included in your notebook, next to the code:\n",
    "%matplotlib inline\n",
    "\n",
    "#add PyTorch and TorchVision (used for cropping etc.)\n",
    "import torch\n",
    "import torchvision\n",
    "\n",
    "import torch.nn as nn\n",
    "import torch.nn.functional as F\n",
    "import torch.optim as optim\n",
    "\n",
    "import pandas as pd\n",
    "random_seed = 1\n",
    "torch.backends.cudnn.enabled = False\n",
    "torch.manual_seed(random_seed)\n",
    "\n",
    "cwd = os.getcwd()"
   ]
  },
  {
   "cell_type": "markdown",
   "metadata": {},
   "source": [
    "## Load training and test data\n",
    "To start with we will be training a neural network to identify handwritten numbers. The input of this neural network will be the flattened image data (28 x 28 px) from the MNIST dataset (shape is 784 x 1). The output layer is a set of 10 neurons each representing an integer from 0-9. The neurons return between 0-1 based on the likelihood that a given number is in the image."
   ]
  },
  {
   "cell_type": "code",
   "execution_count": 2,
   "metadata": {},
   "outputs": [],
   "source": [
    "#create objects to load and pre-process the data\n",
    "batch_size_train = 1024\n",
    "batch_size_test = 1000\n",
    "\n",
    "train_loader = torch.utils.data.DataLoader(\n",
    "    torchvision.datasets.MNIST(cwd + '/files/', train=True, download=True,\n",
    "                                 transform=torchvision.transforms.Compose([\n",
    "                                    torchvision.transforms.ToTensor(),\n",
    "                                    torchvision.transforms.Normalize(\n",
    "                                     (0.1307,), (0.3081,))\n",
    "                             ])),\n",
    "    batch_size=batch_size_train, shuffle=True)\n",
    "\n",
    "test_loader = torch.utils.data.DataLoader(\n",
    "    torchvision.datasets.MNIST(cwd + '/files/', train=False, download=True,\n",
    "                                transform=torchvision.transforms.Compose([\n",
    "                                torchvision.transforms.ToTensor(),\n",
    "                                torchvision.transforms.Normalize(\n",
    "                                     (0.1307,), (0.3081,))\n",
    "                             ])),\n",
    "    batch_size=batch_size_test, shuffle=True)\n"
   ]
  },
  {
   "cell_type": "markdown",
   "metadata": {},
   "source": [
    "## Examine the data"
   ]
  },
  {
   "cell_type": "code",
   "execution_count": 3,
   "metadata": {},
   "outputs": [
    {
     "name": "stdout",
     "output_type": "stream",
     "text": [
      "torch.Size([1000, 1, 28, 28])\n"
     ]
    },
    {
     "data": {
      "image/png": "[encoded data removed]",
      "text/plain": [
       "<Figure size 432x288 with 6 Axes>"
      ]
     },
     "execution_count": 3,
     "metadata": {},
     "output_type": "execute_result"
    },
    {
     "data": {
      "image/png": "[encoded data removed]",
      "text/plain": [
       "<Figure size 432x288 with 6 Axes>"
      ]
     },
     "metadata": {},
     "output_type": "display_data"
    }
   ],
   "source": [
    "examples = enumerate(test_loader)\n",
    "batch_idx, (example_data, example_targets) = next(examples)\n",
    "print(example_data.shape)\n",
    "\n",
    "fig = plt.figure()\n",
    "for i in range(6):\n",
    "    plt.subplot(2,3,i+1)\n",
    "    plt.tight_layout()\n",
    "    plt.imshow(example_data[i][0], cmap='gray', interpolation='none')\n",
    "    plt.title(\"Ground Truth: {}\".format(example_targets[i]))\n",
    "    plt.xticks([])\n",
    "    plt.yticks([])\n",
    "fig"
   ]
  },
  {
   "cell_type": "markdown",
   "metadata": {},
   "source": [
    "## Build the model (using fully connected layers)"
   ]
  },
  {
   "cell_type": "code",
   "execution_count": 4,
   "metadata": {},
   "outputs": [],
   "source": [
    "# we use a simple fully connected network using one hidden layer with a ReLU activation function\n",
    "# the output layer is a log_softmax layer that normalizes the output such that the sum of outputs is one. \n",
    "# See https://pytorch.org/docs/stable/generated/torch.nn.LogSoftmax.html for details\n",
    "class NN(nn.Module):\n",
    "    def __init__(self):\n",
    "        super(NN, self).__init__()\n",
    "        \n",
    "        hidden_size = 20\n",
    "        \n",
    "        self.linear1 = nn.Linear(784, hidden_size)\n",
    "        self.relu = nn.ReLU()\n",
    "        self.linear2 = nn.Linear(hidden_size, 10)\n",
    "\n",
    "    def forward(self, x):\n",
    "        #note that the data x is shape (batch_size, 1, 28, 28) need to reshape to flatten image -> (batch_size, 1, 784)\n",
    "        x = x.view((x.shape[0], 784))\n",
    "        \n",
    "        #propagate through model\n",
    "        x = self.linear1(x)\n",
    "        x = self.relu(x)\n",
    "        x = self.linear2(x)\n",
    "        \n",
    "        return F.log_softmax(x)"
   ]
  },
  {
   "cell_type": "code",
   "execution_count": 5,
   "metadata": {},
   "outputs": [],
   "source": [
    "\n",
    "learning_rate = 0.1\n",
    "momentum = 0.5\n",
    "log_interval = 10\n",
    "\n",
    "fully_connected_model = NN()\n",
    "optimizer = optim.SGD(fully_connected_model.parameters(), lr=learning_rate,\n",
    "                      momentum=momentum)"
   ]
  },
  {
   "cell_type": "markdown",
   "metadata": {},
   "source": [
    "## Train the model\n",
    "\n",
    "<div class=\"alert alert-block alert-info\">\n",
    "    \n",
    "**Task:** \n",
    "    Insert code inside the training loop in the training function below. Then train the model and plot the loss as a function of training steps. The loss function in this case is `F.nll_loss()`.\n",
    "</div>"
   ]
  },
  {
   "cell_type": "code",
   "execution_count": 6,
   "metadata": {},
   "outputs": [],
   "source": [
    "def train_model(model, epochs, train_loader, optimizer):\n",
    "    \n",
    "    train_losses = []\n",
    "    train_counter = []\n",
    "    \n",
    "    #set network to training mode\n",
    "    model.train()\n",
    "    for epoch in range(epochs):\n",
    "        #iterate through data batches\n",
    "        for batch_idx, (data, target) in enumerate(train_loader):\n",
    "            ################################################################\n",
    "            #ANSWER KEY START\n",
    "            ################################################################\n",
    "\n",
    "            #reset gradients\n",
    "            optimizer.zero_grad()\n",
    "\n",
    "            #evaluate network with data\n",
    "            output = model(data)\n",
    "\n",
    "            #compute loss and derivative\n",
    "            loss = F.nll_loss(output, target)\n",
    "            loss.backward()\n",
    "\n",
    "            #step optimizer\n",
    "            optimizer.step()\n",
    "\n",
    "            ################################################################\n",
    "            #ANSWER KEY END\n",
    "            ################################################################\n",
    "            #print out results and save to file\n",
    "            if batch_idx % log_interval == 0:\n",
    "                print('Train Epoch: {} [{}/{} ({:.0f}%)]\\tLoss: {:.6f}'.format(\n",
    "                        epoch, batch_idx * len(data), len(train_loader.dataset),\n",
    "                        100. * batch_idx / len(train_loader), loss.item()))\n",
    "            train_losses.append(loss.item())\n",
    "            train_counter.append(\n",
    "                (batch_idx*64) + ((epoch-1)*len(train_loader.dataset)))\n",
    "            torch.save(model.state_dict(), cwd + '/results/model.pth')\n",
    "            torch.save(optimizer.state_dict(), cwd + '/results/optimizer.pth')\n",
    "        \n",
    "    return train_losses, train_counter"
   ]
  },
  {
   "cell_type": "code",
   "execution_count": 7,
   "metadata": {},
   "outputs": [],
   "source": [
    "def test_model(model,loader):\n",
    "    test_losses = []\n",
    "    model.eval()\n",
    "    test_loss = 0\n",
    "    correct = 0\n",
    "    with torch.no_grad():\n",
    "        for data, target in loader:\n",
    "            output = model(data)\n",
    "            test_loss += F.nll_loss(output, target, size_average=False).item()\n",
    "            pred = output.data.max(1, keepdim=True)[1]\n",
    "            correct += pred.eq(target.data.view_as(pred)).sum()\n",
    "    test_loss /= len(test_loader.dataset)\n",
    "    test_losses.append(test_loss)\n",
    "    print('\\nTest set: Avg. loss: {:.4f}, Accuracy: {}/{} ({:.0f}%)\\n'.format(\n",
    "        test_loss, correct, len(test_loader.dataset),\n",
    "        100. * correct / len(test_loader.dataset)))\n",
    "    \n",
    "    return test_losses"
   ]
  },
  {
   "cell_type": "code",
   "execution_count": 8,
   "metadata": {},
   "outputs": [
    {
     "name": "stderr",
     "output_type": "stream",
     "text": [
      "/home/vagrant/.pyenv/versions/py3/lib/python3.7/site-packages/ipykernel_launcher.py:23: UserWarning: Implicit dimension choice for log_softmax has been deprecated. Change the call to include dim=X as an argument.\n"
     ]
    },
    {
     "name": "stdout",
     "output_type": "stream",
     "text": [
      "Train Epoch: 0 [0/60000 (0%)]\tLoss: 2.312592\n",
      "Train Epoch: 0 [10240/60000 (17%)]\tLoss: 0.890141\n",
      "Train Epoch: 0 [20480/60000 (34%)]\tLoss: 0.542878\n",
      "Train Epoch: 0 [30720/60000 (51%)]\tLoss: 0.443003\n",
      "Train Epoch: 0 [40960/60000 (68%)]\tLoss: 0.408322\n",
      "Train Epoch: 0 [51200/60000 (85%)]\tLoss: 0.372087\n",
      "Train Epoch: 1 [0/60000 (0%)]\tLoss: 0.332622\n",
      "Train Epoch: 1 [10240/60000 (17%)]\tLoss: 0.335877\n",
      "Train Epoch: 1 [20480/60000 (34%)]\tLoss: 0.342772\n",
      "Train Epoch: 1 [30720/60000 (51%)]\tLoss: 0.341244\n",
      "Train Epoch: 1 [40960/60000 (68%)]\tLoss: 0.285919\n",
      "Train Epoch: 1 [51200/60000 (85%)]\tLoss: 0.290328\n",
      "Train Epoch: 2 [0/60000 (0%)]\tLoss: 0.331664\n",
      "Train Epoch: 2 [10240/60000 (17%)]\tLoss: 0.296951\n",
      "Train Epoch: 2 [20480/60000 (34%)]\tLoss: 0.277711\n",
      "Train Epoch: 2 [30720/60000 (51%)]\tLoss: 0.276212\n",
      "Train Epoch: 2 [40960/60000 (68%)]\tLoss: 0.257357\n",
      "Train Epoch: 2 [51200/60000 (85%)]\tLoss: 0.260620\n",
      "Train Epoch: 3 [0/60000 (0%)]\tLoss: 0.264813\n",
      "Train Epoch: 3 [10240/60000 (17%)]\tLoss: 0.265525\n",
      "Train Epoch: 3 [20480/60000 (34%)]\tLoss: 0.249440\n",
      "Train Epoch: 3 [30720/60000 (51%)]\tLoss: 0.281945\n",
      "Train Epoch: 3 [40960/60000 (68%)]\tLoss: 0.242407\n",
      "Train Epoch: 3 [51200/60000 (85%)]\tLoss: 0.243722\n",
      "Train Epoch: 4 [0/60000 (0%)]\tLoss: 0.230253\n",
      "Train Epoch: 4 [10240/60000 (17%)]\tLoss: 0.199952\n",
      "Train Epoch: 4 [20480/60000 (34%)]\tLoss: 0.221159\n",
      "Train Epoch: 4 [30720/60000 (51%)]\tLoss: 0.243170\n",
      "Train Epoch: 4 [40960/60000 (68%)]\tLoss: 0.217776\n",
      "Train Epoch: 4 [51200/60000 (85%)]\tLoss: 0.219156\n"
     ]
    },
    {
     "name": "stderr",
     "output_type": "stream",
     "text": [
      "/home/vagrant/.pyenv/versions/py3/lib/python3.7/site-packages/torch/nn/_reduction.py:42: UserWarning: size_average and reduce args will be deprecated, please use reduction='sum' instead.\n",
      "  warnings.warn(warning.format(ret))\n"
     ]
    },
    {
     "name": "stdout",
     "output_type": "stream",
     "text": [
      "\n",
      "Test set: Avg. loss: 0.2241, Accuracy: 9331/10000 (93%)\n",
      "\n"
     ]
    }
   ],
   "source": [
    "################################################################\n",
    "#ANSWER KEY\n",
    "################################################################\n",
    "\n",
    "n_epochs = 5\n",
    "train_losses,counter = train_model(fully_connected_model, n_epochs, train_loader, optimizer)\n",
    "test_losses = test_model(fully_connected_model,test_loader)\n"
   ]
  },
  {
   "cell_type": "code",
   "execution_count": 9,
   "metadata": {},
   "outputs": [
    {
     "data": {
      "text/plain": [
       "Text(0, 0.5, 'mse loss')"
      ]
     },
     "execution_count": 9,
     "metadata": {},
     "output_type": "execute_result"
    },
    {
     "data": {
      "image/png": "[encoded data removed]",
      "text/plain": [
       "<Figure size 432x288 with 1 Axes>"
      ]
     },
     "metadata": {
      "needs_background": "light"
     },
     "output_type": "display_data"
    }
   ],
   "source": [
    "fig, ax = plt.subplots()\n",
    "ax.plot(train_losses, color='blue')\n",
    "ax.set_xlabel('training steps')\n",
    "ax.set_ylabel('mse loss')"
   ]
  },
  {
   "cell_type": "code",
   "execution_count": null,
   "metadata": {},
   "outputs": [],
   "source": []
  },
  {
   "cell_type": "markdown",
   "metadata": {},
   "source": [
    "## Build model with CNN Layers\n",
    "For the MNIST data set it is reasonable to use a fully connected network. If we have larger images then this scales poorly and becomes impractical quickly. Instead we can use a Convolutional neural network (CNN)."
   ]
  },
  {
   "cell_type": "code",
   "execution_count": 10,
   "metadata": {},
   "outputs": [],
   "source": [
    "class CNN(nn.Module):\n",
    "    def __init__(self):\n",
    "        super(CNN, self).__init__()\n",
    "        self.conv1 = nn.Conv2d(1, 10, kernel_size=5)\n",
    "        self.conv2 = nn.Conv2d(10, 20, kernel_size=5)\n",
    "        self.conv2_drop = nn.Dropout2d()\n",
    "        self.fc1 = nn.Linear(320, 50)\n",
    "        self.fc2 = nn.Linear(50, 10)\n",
    "\n",
    "    def forward(self, x):\n",
    "        x = F.relu(F.max_pool2d(self.conv1(x), 2))\n",
    "        x = F.relu(F.max_pool2d(self.conv2_drop(self.conv2(x)), 2))\n",
    "        x = x.view(-1, 320)\n",
    "        x = F.relu(self.fc1(x))\n",
    "        x = F.dropout(x, training=self.training)\n",
    "        x = self.fc2(x)\n",
    "        return F.log_softmax(x)"
   ]
  },
  {
   "cell_type": "markdown",
   "metadata": {},
   "source": [
    "## Train the model\n",
    "\n",
    "<div class=\"alert alert-block alert-info\">\n",
    "    \n",
    "**Task:** \n",
    "    Train the CNN model and plot the loss as a function of number of training examples seen.\n",
    "</div>"
   ]
  },
  {
   "cell_type": "code",
   "execution_count": 11,
   "metadata": {},
   "outputs": [
    {
     "name": "stderr",
     "output_type": "stream",
     "text": [
      "/home/vagrant/.pyenv/versions/py3/lib/python3.7/site-packages/ipykernel_launcher.py:17: UserWarning: Implicit dimension choice for log_softmax has been deprecated. Change the call to include dim=X as an argument.\n"
     ]
    },
    {
     "name": "stdout",
     "output_type": "stream",
     "text": [
      "Train Epoch: 0 [0/60000 (0%)]\tLoss: 2.322436\n",
      "Train Epoch: 0 [10240/60000 (17%)]\tLoss: 2.145252\n",
      "Train Epoch: 0 [20480/60000 (34%)]\tLoss: 1.249052\n",
      "Train Epoch: 0 [30720/60000 (51%)]\tLoss: 0.879425\n",
      "Train Epoch: 0 [40960/60000 (68%)]\tLoss: 0.710942\n",
      "Train Epoch: 0 [51200/60000 (85%)]\tLoss: 0.635695\n",
      "Train Epoch: 1 [0/60000 (0%)]\tLoss: 0.645205\n",
      "Train Epoch: 1 [10240/60000 (17%)]\tLoss: 0.541179\n",
      "Train Epoch: 1 [20480/60000 (34%)]\tLoss: 0.476275\n",
      "Train Epoch: 1 [30720/60000 (51%)]\tLoss: 0.415181\n",
      "Train Epoch: 1 [40960/60000 (68%)]\tLoss: 0.522633\n",
      "Train Epoch: 1 [51200/60000 (85%)]\tLoss: 0.418416\n",
      "Train Epoch: 2 [0/60000 (0%)]\tLoss: 0.415975\n",
      "Train Epoch: 2 [10240/60000 (17%)]\tLoss: 0.412390\n",
      "Train Epoch: 2 [20480/60000 (34%)]\tLoss: 0.459285\n",
      "Train Epoch: 2 [30720/60000 (51%)]\tLoss: 0.319663\n",
      "Train Epoch: 2 [40960/60000 (68%)]\tLoss: 0.351353\n",
      "Train Epoch: 2 [51200/60000 (85%)]\tLoss: 0.344717\n",
      "\n",
      "Test set: Avg. loss: 0.1176, Accuracy: 9638/10000 (96%)\n",
      "\n"
     ]
    }
   ],
   "source": [
    "################################################################\n",
    "#ANSWER KEY\n",
    "################################################################\n",
    "cnn_model = CNN()\n",
    "cnn_optimizer = optim.SGD(cnn_model.parameters(), lr=learning_rate,\n",
    "                      momentum=momentum)\n",
    "\n",
    "n_epochs = 3\n",
    "train_losses,counter = train_model(cnn_model, n_epochs, train_loader, cnn_optimizer)\n",
    "test_losses = test_model(cnn_model,test_loader)"
   ]
  },
  {
   "cell_type": "code",
   "execution_count": 12,
   "metadata": {},
   "outputs": [
    {
     "data": {
      "text/plain": [
       "Text(0, 0.5, 'negative log likelihood loss')"
      ]
     },
     "execution_count": 12,
     "metadata": {},
     "output_type": "execute_result"
    },
    {
     "data": {
      "image/png": "[encoded data removed]",
      "text/plain": [
       "<Figure size 432x288 with 1 Axes>"
      ]
     },
     "metadata": {
      "needs_background": "light"
     },
     "output_type": "display_data"
    }
   ],
   "source": [
    "fig, ax = plt.subplots()\n",
    "ax.plot(train_losses, color='blue')\n",
    "ax.set_xlabel('number of training examples seen')\n",
    "ax.set_ylabel('negative log likelihood loss')"
   ]
  },
  {
   "cell_type": "markdown",
   "metadata": {},
   "source": [
    "## NN for AWA Photoinjector\n",
    "<div class=\"alert alert-block alert-success\">\n",
    "    \n",
    "**Homework:**\n",
    "    \n",
    "Now its your turn! Implement and train a NN model to perform regression on data from the AWA photoinjector.\n",
    "    \n",
    "- The input layer should accept 7 parameters and return 6 parameters\n",
    "- Start with 3 hidden layers with 20 neurons each and tanh activiation functions (since we are doing regression, not classification)\n",
    "- Use the MSELoss function `torch.nn.functional.mse_loss()`\n",
    "- Try 3 different NN designs and compare their accuracy after 5 epochs.\n",
    "</div>"
   ]
  },
  {
   "cell_type": "code",
   "execution_count": 18,
   "metadata": {},
   "outputs": [
    {
     "name": "stdout",
     "output_type": "stream",
     "text": [
      "torch.Size([1024, 1, 28, 28])\n"
     ]
    }
   ],
   "source": [
    "#load AWA data\n",
    "df = pd.read_pickle('AWA_train.pkl')\n",
    "features = ['P0','P1','G0','G1','K1','K2']\n",
    "targets = ['rms_x','rms_y','rms_s','emit_x','emit_y','emit_s','dE']\n",
    "\n",
    "n_train = 70000\n",
    "n_test = 30000\n",
    "batch_size = 1024\n",
    "\n",
    "#create test and train datasets\n",
    "train_data = torch.utils.data.TensorDataset(torch.tensor(df.head(n_train)[features].values).float(),\n",
    "                                            torch.tensor(df.head(n_train)[targets].values).float())\n",
    "\n",
    "test_data = torch.utils.data.TensorDataset(torch.tensor(df.tail(n_test)[features].values).float(),\n",
    "                                           torch.tensor(df.tail(n_test)[targets].values).float())\n",
    "\n",
    "awa_train_loader = torch.utils.data.DataLoader(train_data, batch_size=batch_size, shuffle=True)\n",
    "awa_test_loader = torch.utils.data.DataLoader(test_data, batch_size=batch_size, shuffle=True)\n",
    "\n",
    "\n",
    "examples = enumerate(train_loader)\n",
    "batch_idx, (example_data, example_targets) = next(examples)\n",
    "print(example_data.shape)\n",
    "\n"
   ]
  },
  {
   "cell_type": "code",
   "execution_count": 19,
   "metadata": {},
   "outputs": [],
   "source": [
    "class AWANN(nn.Module):\n",
    "    def __init__(self):\n",
    "        super(AWANN, self).__init__()\n",
    "\n",
    "        hidden_size = 20\n",
    "        self.linear1 = nn.Linear(6, hidden_size)\n",
    "        self.tanh1 = nn.Tanh()\n",
    "        self.linear2 = nn.Linear(hidden_size, hidden_size)\n",
    "        self.tanh2 = nn.Tanh()\n",
    "        self.linear3 = nn.Linear(hidden_size, hidden_size)\n",
    "        self.tanh3 = nn.Tanh()\n",
    "        self.linear4 = nn.Linear(hidden_size, 7)\n",
    "\n",
    "    def forward(self, x):\n",
    "        # propagate through model\n",
    "        x = self.linear1(x)\n",
    "        x = self.tanh1(x)\n",
    "        x = self.linear2(x)\n",
    "        x = self.tanh2(x)\n",
    "        x = self.linear3(x)\n",
    "        x = self.tanh3(x)\n",
    "        x = self.linear4(x)\n",
    "        \n",
    "        return x"
   ]
  },
  {
   "cell_type": "code",
   "execution_count": 23,
   "metadata": {},
   "outputs": [],
   "source": [
    "def train_model(model, epochs, train_loader, optimizer):\n",
    "    \n",
    "    train_losses = []\n",
    "    train_counter = []\n",
    "    \n",
    "    #set network to training mode\n",
    "    model.train()\n",
    "    for epoch in range(epochs):\n",
    "        #iterate through data batches\n",
    "        for batch_idx, (data, target) in enumerate(train_loader):\n",
    "            ################################################################\n",
    "            #ANSWER KEY START\n",
    "            ################################################################\n",
    "\n",
    "            #reset gradients\n",
    "            optimizer.zero_grad()\n",
    "\n",
    "            #evaluate network with data\n",
    "            output = model(data)\n",
    "\n",
    "            #compute loss and derivative\n",
    "            loss = F.mse_loss(output, target)\n",
    "            loss.backward()\n",
    "\n",
    "            #step optimizer\n",
    "            optimizer.step()\n",
    "\n",
    "            ################################################################\n",
    "            #ANSWER KEY END\n",
    "            ################################################################\n",
    "            #print out results and save to file\n",
    "            if batch_idx % log_interval == 0:\n",
    "                print('Train Epoch: {} [{}/{} ({:.0f}%)]\\tLoss: {:.6f}'.format(\n",
    "                        epoch, batch_idx * len(data), len(train_loader.dataset),\n",
    "                        100. * batch_idx / len(train_loader), loss.item()))\n",
    "            train_losses.append(loss.item())\n",
    "            train_counter.append(\n",
    "                (batch_idx*64) + ((epoch-1)*len(train_loader.dataset)))\n",
    "            torch.save(model.state_dict(), cwd + '/results/model.pth')\n",
    "            torch.save(optimizer.state_dict(), cwd + '/results/optimizer.pth')\n",
    "        \n",
    "    return train_losses, train_counter"
   ]
  },
  {
   "cell_type": "code",
   "execution_count": 26,
   "metadata": {},
   "outputs": [],
   "source": [
    "def test_model(model, test_loader):\n",
    "    test_losses = []\n",
    "    model.eval()\n",
    "    test_loss = 0\n",
    "    correct = 0\n",
    "    with torch.no_grad():\n",
    "        for data, target in test_loader:\n",
    "            output = model(data)\n",
    "            test_loss += F.mse_loss(output, target, size_average=False).item()\n",
    "            pred = output.data.max(1, keepdim=True)[1]\n",
    "    test_loss /= len(test_loader.dataset)\n",
    "    test_losses.append(test_loss)\n",
    "    \n",
    "    return test_losses"
   ]
  },
  {
   "cell_type": "code",
   "execution_count": 27,
   "metadata": {},
   "outputs": [
    {
     "name": "stdout",
     "output_type": "stream",
     "text": [
      "Train Epoch: 0 [0/70000 (0%)]\tLoss: 0.350461\n",
      "Train Epoch: 0 [10240/70000 (14%)]\tLoss: 0.136742\n",
      "Train Epoch: 0 [20480/70000 (29%)]\tLoss: 0.103400\n",
      "Train Epoch: 0 [30720/70000 (43%)]\tLoss: 0.097766\n",
      "Train Epoch: 0 [40960/70000 (58%)]\tLoss: 0.085442\n",
      "Train Epoch: 0 [51200/70000 (72%)]\tLoss: 0.075499\n",
      "Train Epoch: 0 [61440/70000 (87%)]\tLoss: 0.055455\n",
      "Train Epoch: 1 [0/70000 (0%)]\tLoss: 0.045953\n",
      "Train Epoch: 1 [10240/70000 (14%)]\tLoss: 0.036346\n",
      "Train Epoch: 1 [20480/70000 (29%)]\tLoss: 0.031521\n",
      "Train Epoch: 1 [30720/70000 (43%)]\tLoss: 0.029938\n",
      "Train Epoch: 1 [40960/70000 (58%)]\tLoss: 0.025876\n",
      "Train Epoch: 1 [51200/70000 (72%)]\tLoss: 0.025228\n",
      "Train Epoch: 1 [61440/70000 (87%)]\tLoss: 0.025968\n",
      "Train Epoch: 2 [0/70000 (0%)]\tLoss: 0.023486\n",
      "Train Epoch: 2 [10240/70000 (14%)]\tLoss: 0.022134\n",
      "Train Epoch: 2 [20480/70000 (29%)]\tLoss: 0.022842\n",
      "Train Epoch: 2 [30720/70000 (43%)]\tLoss: 0.021616\n",
      "Train Epoch: 2 [40960/70000 (58%)]\tLoss: 0.020589\n",
      "Train Epoch: 2 [51200/70000 (72%)]\tLoss: 0.024577\n",
      "Train Epoch: 2 [61440/70000 (87%)]\tLoss: 0.017257\n",
      "Train Epoch: 3 [0/70000 (0%)]\tLoss: 0.017891\n",
      "Train Epoch: 3 [10240/70000 (14%)]\tLoss: 0.023197\n",
      "Train Epoch: 3 [20480/70000 (29%)]\tLoss: 0.021100\n",
      "Train Epoch: 3 [30720/70000 (43%)]\tLoss: 0.018558\n",
      "Train Epoch: 3 [40960/70000 (58%)]\tLoss: 0.021289\n",
      "Train Epoch: 3 [51200/70000 (72%)]\tLoss: 0.019032\n",
      "Train Epoch: 3 [61440/70000 (87%)]\tLoss: 0.018632\n"
     ]
    },
    {
     "name": "stderr",
     "output_type": "stream",
     "text": [
      "/home/vagrant/.pyenv/versions/py3/lib/python3.7/site-packages/torch/nn/_reduction.py:42: UserWarning: size_average and reduce args will be deprecated, please use reduction='sum' instead.\n",
      "  warnings.warn(warning.format(ret))\n"
     ]
    }
   ],
   "source": [
    "################################################################\n",
    "#ANSWER KEY\n",
    "################################################################\n",
    "awa_model = AWANN()\n",
    "awa_optimizer = optim.SGD(awa_model.parameters(), lr=learning_rate,\n",
    "                      momentum=momentum)\n",
    "\n",
    "n_epochs = 4\n",
    "train_losses,counter = train_model(awa_model, n_epochs, awa_train_loader, awa_optimizer)\n",
    "test_losses = test_model(awa_model, awa_train_loader)"
   ]
  },
  {
   "cell_type": "code",
   "execution_count": null,
   "metadata": {},
   "outputs": [],
   "source": []
  }
 ],
 "metadata": {
  "kernelspec": {
   "display_name": "Python 3",
   "language": "python",
   "name": "py3"
  },
  "language_info": {
   "codemirror_mode": {
    "name": "ipython",
    "version": 3
   },
   "file_extension": ".py",
   "mimetype": "text/x-python",
   "name": "python",
   "nbconvert_exporter": "python",
   "pygments_lexer": "ipython3",
   "version": "3.7.2"
  }
 },
 "nbformat": 4,
 "nbformat_minor": 4
}
